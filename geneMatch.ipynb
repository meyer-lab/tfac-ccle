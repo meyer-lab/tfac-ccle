{
 "cells": [
  {
   "cell_type": "code",
   "execution_count": 103,
   "metadata": {},
   "outputs": [],
   "source": [
    "from tfac.dataOrg import extractData\n",
    "import numpy as np\n",
    "import pandas as pd\n",
    "from synapseclient import Synapse, File"
   ]
  },
  {
   "cell_type": "code",
   "execution_count": 96,
   "metadata": {},
   "outputs": [
    {
     "name": "stdout",
     "output_type": "stream",
     "text": [
      "Welcome, micah.bryant!\n",
      "\n"
     ]
    }
   ],
   "source": [
    "syn = Synapse()\n",
    "syn.login('micah.bryant', '369DamnSheFine')"
   ]
  },
  {
   "cell_type": "code",
   "execution_count": 104,
   "metadata": {},
   "outputs": [],
   "source": [
    "synData = syn.get('syn21296423')\n",
    "df = pd.read_excel(synData.path)\n",
    "geneTemp = df.to_numpy()"
   ]
  },
  {
   "cell_type": "code",
   "execution_count": 118,
   "metadata": {},
   "outputs": [],
   "source": [
    "geneDavid = extractData('tfac/data/geneDavid.xlsx')\n",
    "geneDavid = geneDavid.to_numpy()"
   ]
  },
  {
   "cell_type": "code",
   "execution_count": 86,
   "metadata": {},
   "outputs": [
    {
     "name": "stdout",
     "output_type": "stream",
     "text": [
      "[[1.  5.  3.  9.  nan 2.  4.  3. ]\n",
      " [1.2 4.  4.  2.  9.  5.  4.  2. ]\n",
      " [2.  nan 2.  6.  6.  3.  2.  1. ]]\n"
     ]
    }
   ],
   "source": [
    "gene = np.array(([1.0,5,3,9,np.nan,2,4,3],[1.2,4,4,2,9,5,4,2],[2.0,np.nan,2,6,6,3,2,1])).astype(np.float)\n",
    "print(gene)"
   ]
  },
  {
   "cell_type": "code",
   "execution_count": 109,
   "metadata": {},
   "outputs": [],
   "source": [
    "enTemp = np.zeros(len(geneTemp[:,0])).astype(str)\n",
    "for i in range(len(geneTemp[:,0])):\n",
    "    enTemp[i] = geneTemp[i,0].split('.')[0]\n",
    "geneTemp[:,0] = enTemp"
   ]
  },
  {
   "cell_type": "code",
   "execution_count": 94,
   "metadata": {},
   "outputs": [
    {
     "name": "stdout",
     "output_type": "stream",
     "text": [
      "[['1.0' '5.0' '3.0' '9.0' 'nan' '2.0' '4.0' '3.0']\n",
      " ['1.0' '4.0' '4.0' '2.0' '9.0' '5.0' '4.0' '2.0']\n",
      " ['2.0' 'nan' '2.0' '6.0' '6.0' '3.0' '2.0' '1.0']]\n"
     ]
    }
   ],
   "source": [
    "print(geneTemp)"
   ]
  },
  {
   "cell_type": "code",
   "execution_count": 84,
   "metadata": {},
   "outputs": [
    {
     "name": "stdout",
     "output_type": "stream",
     "text": [
      "ENSG00000000003\n"
     ]
    }
   ],
   "source": [
    "print(geneDavid.values[0,0])"
   ]
  },
  {
   "cell_type": "code",
   "execution_count": 119,
   "metadata": {},
   "outputs": [
    {
     "name": "stdout",
     "output_type": "stream",
     "text": [
      "(24034,)\n"
     ]
    }
   ],
   "source": [
    "print(geneDavid[:,0].shape)"
   ]
  },
  {
   "cell_type": "code",
   "execution_count": 120,
   "metadata": {},
   "outputs": [],
   "source": [
    "geneIdx = np.where(np.in1d(geneTemp[:,0], geneDavid[:,0]))[0]"
   ]
  },
  {
   "cell_type": "code",
   "execution_count": 121,
   "metadata": {},
   "outputs": [],
   "source": [
    "geneDMatch = geneTemp[geneIdx,:]"
   ]
  },
  {
   "cell_type": "code",
   "execution_count": 124,
   "metadata": {},
   "outputs": [
    {
     "name": "stdout",
     "output_type": "stream",
     "text": [
      "0.0\n"
     ]
    }
   ],
   "source": [
    "print(geneDMatch[22017,11])"
   ]
  },
  {
   "cell_type": "code",
   "execution_count": 122,
   "metadata": {},
   "outputs": [],
   "source": [
    "df = pd.DataFrame(geneDMatch.astype(str))\n",
    "filepath = 'geneDMatch.xlsx'\n",
    "df.to_excel(filepath, index=False)"
   ]
  },
  {
   "cell_type": "code",
   "execution_count": null,
   "metadata": {},
   "outputs": [],
   "source": []
  }
 ],
 "metadata": {
  "kernelspec": {
   "display_name": "Python 3",
   "language": "python",
   "name": "python3"
  },
  "language_info": {
   "codemirror_mode": {
    "name": "ipython",
    "version": 3
   },
   "file_extension": ".py",
   "mimetype": "text/x-python",
   "name": "python",
   "nbconvert_exporter": "python",
   "pygments_lexer": "ipython3",
   "version": "3.7.5rc1"
  }
 },
 "nbformat": 4,
 "nbformat_minor": 4
}
