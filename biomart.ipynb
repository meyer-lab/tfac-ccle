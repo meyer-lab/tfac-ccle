{
 "cells": [
  {
   "cell_type": "code",
   "execution_count": 51,
   "metadata": {},
   "outputs": [],
   "source": [
    "from pybiomart.dataset import Dataset\n",
    "from tfac.dataOrg import extractData\n",
    "import numpy as np\n",
    "import pandas as pd\n",
    "from synapseclient import Synapse, File\n",
    "from multiprocessing import Pool"
   ]
  },
  {
   "cell_type": "code",
   "execution_count": 10,
   "metadata": {},
   "outputs": [
    {
     "name": "stdout",
     "output_type": "stream",
     "text": [
      "[nan  1.  5.  1.]\n",
      "nan\n"
     ]
    }
   ],
   "source": [
    "x = np.array(['nan','1','5','1'])\n",
    "x= x.astype(np.float)\n",
    "print(x)\n",
    "print(np.sum(x))"
   ]
  },
  {
   "cell_type": "code",
   "execution_count": 69,
   "metadata": {},
   "outputs": [
    {
     "name": "stdout",
     "output_type": "stream",
     "text": [
      "[[ 1.  5.  3.  9. nan  2.  4.  3.]\n",
      " [ 1.  4.  4.  2.  9.  5.  4.  2.]\n",
      " [ 2. nan  2.  6.  6.  3.  2.  1.]]\n"
     ]
    }
   ],
   "source": [
    "meth = np.array(([1,5,3,9,np.nan,2,4,3],[1,4,4,2,9,5,4,2],[2,np.nan,2,6,6,3,2,1])).astype(np.float)\n",
    "print(meth)"
   ]
  },
  {
   "cell_type": "code",
   "execution_count": 70,
   "metadata": {},
   "outputs": [],
   "source": [
    "uData = np.unique(meth[:,0], return_index=True, return_counts=True)"
   ]
  },
  {
   "cell_type": "code",
   "execution_count": 23,
   "metadata": {},
   "outputs": [
    {
     "name": "stdout",
     "output_type": "stream",
     "text": [
      "[0 2]\n"
     ]
    }
   ],
   "source": [
    "print(uData[1])"
   ]
  },
  {
   "cell_type": "code",
   "execution_count": 75,
   "metadata": {},
   "outputs": [
    {
     "name": "stdout",
     "output_type": "stream",
     "text": [
      "Welcome, micah.bryant!\n",
      "\n"
     ]
    }
   ],
   "source": [
    "syn = Synapse()\n",
    "syn.login('micah.bryant', '369DamnSheFine')\n",
    "synData = syn.get('syn21293702')\n",
    "df = pd.read_excel(synData.path)\n",
    "meth = df.to_numpy()\n",
    "meth = meth.astype(np.float)\n",
    "uData = np.unique(meth[:,0], return_index=True, return_counts=True) #allows for slicing into array"
   ]
  },
  {
   "cell_type": "code",
   "execution_count": 76,
   "metadata": {},
   "outputs": [],
   "source": [
    "newMeth = meth"
   ]
  },
  {
   "cell_type": "code",
   "execution_count": 77,
   "metadata": {},
   "outputs": [],
   "source": [
    "meth = newMeth"
   ]
  },
  {
   "cell_type": "code",
   "execution_count": 78,
   "metadata": {},
   "outputs": [],
   "source": [
    "for i in range(len(uData[1])):\n",
    "    idx = uData[1][i]\n",
    "    count = uData[2][i]\n",
    "    if count > 1:\n",
    "        meth[idx+1:idx+count,0] = 0.0\n",
    "        for j in range(len(meth[1,:])-1):\n",
    "            meth[idx,j+1] = np.sum(meth[idx:idx+count,j+1])/count\n",
    "            "
   ]
  },
  {
   "cell_type": "code",
   "execution_count": 72,
   "metadata": {},
   "outputs": [
    {
     "name": "stdout",
     "output_type": "stream",
     "text": [
      "[[1.  4.5 3.5 5.5 nan 3.5 4.  2.5]\n",
      " [0.  4.  4.  2.  9.  5.  4.  2. ]\n",
      " [2.  nan 2.  6.  6.  3.  2.  1. ]]\n"
     ]
    }
   ],
   "source": [
    "print(meth)"
   ]
  },
  {
   "cell_type": "code",
   "execution_count": 79,
   "metadata": {},
   "outputs": [],
   "source": [
    "df = pd.DataFrame(meth.astype(str))\n",
    "filepath = 'methN.xlsx'\n",
    "df.to_excel(filepath, index=False)"
   ]
  },
  {
   "cell_type": "code",
   "execution_count": 62,
   "metadata": {},
   "outputs": [],
   "source": [
    "methIdx = np.array((uData[1],uData[2]))"
   ]
  },
  {
   "cell_type": "code",
   "execution_count": 63,
   "metadata": {},
   "outputs": [],
   "source": [
    "methIdx = np.zeros((1,2))"
   ]
  },
  {
   "cell_type": "code",
   "execution_count": 64,
   "metadata": {},
   "outputs": [
    {
     "name": "stdout",
     "output_type": "stream",
     "text": [
      "[[0. 0.]]\n"
     ]
    }
   ],
   "source": [
    "print(methIdx)"
   ]
  },
  {
   "cell_type": "code",
   "execution_count": 61,
   "metadata": {},
   "outputs": [
    {
     "ename": "ValueError",
     "evalue": "DataFrame constructor not properly called!",
     "output_type": "error",
     "traceback": [
      "\u001b[0;31m---------------------------------------------------------------------------\u001b[0m",
      "\u001b[0;31mValueError\u001b[0m                                Traceback (most recent call last)",
      "\u001b[0;32m<ipython-input-61-cf85678b418b>\u001b[0m in \u001b[0;36m<module>\u001b[0;34m\u001b[0m\n\u001b[0;32m----> 1\u001b[0;31m \u001b[0mdf\u001b[0m \u001b[0;34m=\u001b[0m \u001b[0mpd\u001b[0m\u001b[0;34m.\u001b[0m\u001b[0mDataFrame\u001b[0m\u001b[0;34m(\u001b[0m\u001b[0mmethIdx\u001b[0m\u001b[0;34m)\u001b[0m\u001b[0;34m\u001b[0m\u001b[0;34m\u001b[0m\u001b[0m\n\u001b[0m\u001b[1;32m      2\u001b[0m \u001b[0mfilepath\u001b[0m \u001b[0;34m=\u001b[0m \u001b[0;34m'methIdx.xlsx'\u001b[0m\u001b[0;34m\u001b[0m\u001b[0;34m\u001b[0m\u001b[0m\n\u001b[1;32m      3\u001b[0m \u001b[0mdf\u001b[0m\u001b[0;34m.\u001b[0m\u001b[0mto_excel\u001b[0m\u001b[0;34m(\u001b[0m\u001b[0mfilepath\u001b[0m\u001b[0;34m,\u001b[0m \u001b[0mindex\u001b[0m\u001b[0;34m=\u001b[0m\u001b[0;32mFalse\u001b[0m\u001b[0;34m)\u001b[0m\u001b[0;34m\u001b[0m\u001b[0;34m\u001b[0m\u001b[0m\n",
      "\u001b[0;32m/usr/local/lib/python3.7/dist-packages/pandas/core/frame.py\u001b[0m in \u001b[0;36m__init__\u001b[0;34m(self, data, index, columns, dtype, copy)\u001b[0m\n\u001b[1;32m    483\u001b[0m                 )\n\u001b[1;32m    484\u001b[0m             \u001b[0;32melse\u001b[0m\u001b[0;34m:\u001b[0m\u001b[0;34m\u001b[0m\u001b[0;34m\u001b[0m\u001b[0m\n\u001b[0;32m--> 485\u001b[0;31m                 \u001b[0;32mraise\u001b[0m \u001b[0mValueError\u001b[0m\u001b[0;34m(\u001b[0m\u001b[0;34m\"DataFrame constructor not properly called!\"\u001b[0m\u001b[0;34m)\u001b[0m\u001b[0;34m\u001b[0m\u001b[0;34m\u001b[0m\u001b[0m\n\u001b[0m\u001b[1;32m    486\u001b[0m \u001b[0;34m\u001b[0m\u001b[0m\n\u001b[1;32m    487\u001b[0m         \u001b[0mNDFrame\u001b[0m\u001b[0;34m.\u001b[0m\u001b[0m__init__\u001b[0m\u001b[0;34m(\u001b[0m\u001b[0mself\u001b[0m\u001b[0;34m,\u001b[0m \u001b[0mmgr\u001b[0m\u001b[0;34m,\u001b[0m \u001b[0mfastpath\u001b[0m\u001b[0;34m=\u001b[0m\u001b[0;32mTrue\u001b[0m\u001b[0;34m)\u001b[0m\u001b[0;34m\u001b[0m\u001b[0;34m\u001b[0m\u001b[0m\n",
      "\u001b[0;31mValueError\u001b[0m: DataFrame constructor not properly called!"
     ]
    }
   ],
   "source": [
    "df = pd.DataFrame(methIdx)\n",
    "filepath = 'methIdx.xlsx'\n",
    "df.to_excel(filepath, index=False)"
   ]
  },
  {
   "cell_type": "code",
   "execution_count": 10,
   "metadata": {},
   "outputs": [],
   "source": [
    "data = extractData('tfac/data/geneIdentifiers.xlsx', 'A:D')\n",
    "data = data.to_numpy()\n",
    "ranges = np.array([21337, 7000, 23316])"
   ]
  },
  {
   "cell_type": "code",
   "execution_count": 11,
   "metadata": {},
   "outputs": [],
   "source": [
    "methylation = np.append(data[:12158,0:2],data[12159:21338,0:2], axis = 0).astype(str)\n",
    "geneExp = data[49300:,2].astype(str)\n",
    "copyNum = data[:23316,3].astype(str)"
   ]
  },
  {
   "cell_type": "code",
   "execution_count": 45,
   "metadata": {},
   "outputs": [],
   "source": [
    "df = pd.DataFrame(geneEntrez)\n",
    "filepath = 'geneEntrez.xlsx'\n",
    "df.to_excel(filepath, index=False)"
   ]
  },
  {
   "cell_type": "code",
   "execution_count": null,
   "metadata": {},
   "outputs": [],
   "source": [
    "geneEntrez = np.zeros(ranges[1]).astype(str)\n",
    "for i in range(ranges[1]):\n",
    "    entrez = dataset.query(attributes=['entrezgene_id'],\n",
    "              filters={'link_ensembl_gene_id': [geneExp[i].split('.')[0]]})\n",
    "    if entrez.empty:\n",
    "        geneEntrez[i] = 'nan'\n",
    "    else:\n",
    "        geneEntrez[i] = entrez.values[0][0]\n",
    "df = pd.DataFrame(geneEntrez)\n",
    "filepath = 'geneEntrez.xlsx'\n",
    "df.to_excel(filepath, index=False)"
   ]
  },
  {
   "cell_type": "code",
   "execution_count": null,
   "metadata": {},
   "outputs": [],
   "source": [
    "for count, i in enumerate(geneEntrez):\n",
    "    if i == '0.0':\n",
    "        print(count)\n",
    "        break"
   ]
  },
  {
   "cell_type": "code",
   "execution_count": 27,
   "metadata": {},
   "outputs": [
    {
     "name": "stdout",
     "output_type": "stream",
     "text": [
      "152687.0\n"
     ]
    }
   ],
   "source": [
    "ch4 = dataset.query(attributes=['entrezgene_id', 'hgnc_symbol'],\n",
    "              filters={'chromosome_name': ['4'], })\n",
    "print(ch4.values[1,0])"
   ]
  },
  {
   "cell_type": "code",
   "execution_count": 46,
   "metadata": {},
   "outputs": [
    {
     "ename": "IndexError",
     "evalue": "index 21337 is out of bounds for axis 0 with size 21337",
     "output_type": "error",
     "traceback": [
      "\u001b[0;31m---------------------------------------------------------------------------\u001b[0m",
      "\u001b[0;31mIndexError\u001b[0m                                Traceback (most recent call last)",
      "\u001b[0;32m<ipython-input-46-b6859d5243c7>\u001b[0m in \u001b[0;36m<module>\u001b[0;34m\u001b[0m\n\u001b[1;32m      2\u001b[0m \u001b[0mchromosome\u001b[0m \u001b[0;34m=\u001b[0m \u001b[0;34m'0'\u001b[0m\u001b[0;34m\u001b[0m\u001b[0;34m\u001b[0m\u001b[0m\n\u001b[1;32m      3\u001b[0m \u001b[0;32mfor\u001b[0m \u001b[0mi\u001b[0m \u001b[0;32min\u001b[0m \u001b[0mrange\u001b[0m\u001b[0;34m(\u001b[0m\u001b[0mranges\u001b[0m\u001b[0;34m[\u001b[0m\u001b[0;36m2\u001b[0m\u001b[0;34m]\u001b[0m\u001b[0;34m)\u001b[0m\u001b[0;34m:\u001b[0m\u001b[0;34m\u001b[0m\u001b[0;34m\u001b[0m\u001b[0m\n\u001b[0;32m----> 4\u001b[0;31m     \u001b[0mmethCh\u001b[0m \u001b[0;34m=\u001b[0m \u001b[0mmethylation\u001b[0m\u001b[0;34m[\u001b[0m\u001b[0mi\u001b[0m\u001b[0;34m]\u001b[0m\u001b[0;34m[\u001b[0m\u001b[0;36m1\u001b[0m\u001b[0;34m]\u001b[0m\u001b[0;34m.\u001b[0m\u001b[0msplit\u001b[0m\u001b[0;34m(\u001b[0m\u001b[0;34m'.'\u001b[0m\u001b[0;34m)\u001b[0m\u001b[0;34m[\u001b[0m\u001b[0;36m0\u001b[0m\u001b[0;34m]\u001b[0m\u001b[0;34m\u001b[0m\u001b[0;34m\u001b[0m\u001b[0m\n\u001b[0m\u001b[1;32m      5\u001b[0m     \u001b[0;32mif\u001b[0m \u001b[0mchromosome\u001b[0m \u001b[0;34m!=\u001b[0m \u001b[0mmethCh\u001b[0m\u001b[0;34m:\u001b[0m\u001b[0;34m\u001b[0m\u001b[0;34m\u001b[0m\u001b[0m\n\u001b[1;32m      6\u001b[0m         \u001b[0mchromosome\u001b[0m \u001b[0;34m=\u001b[0m \u001b[0mmethCh\u001b[0m\u001b[0;34m\u001b[0m\u001b[0;34m\u001b[0m\u001b[0m\n",
      "\u001b[0;31mIndexError\u001b[0m: index 21337 is out of bounds for axis 0 with size 21337"
     ]
    }
   ],
   "source": [
    "methEntrez = np.zeros(ranges[2]).astype(str)\n",
    "chromosome = '0'\n",
    "for i in range(ranges[2]):\n",
    "    methCh = methylation[i][1].split('.')[0]\n",
    "    if chromosome != methCh:\n",
    "        chromosome = methCh\n",
    "        entrez = dataset.query(attributes=['entrezgene_id', 'hgnc_symbol'],\n",
    "              filters={'chromosome_name': [chromosome]})\n",
    "    for j in range(len(entrez.values[:,1])):\n",
    "        if entrez.values[j,1] == methylation[i,0]:\n",
    "            methEntrez[i] = entrez.values[j,0]\n",
    "            break\n",
    "df = pd.DataFrame(methEntrez)\n",
    "filepath = 'my_excel_file.xlsx'\n",
    "df.to_excel(filepath, index=False)"
   ]
  },
  {
   "cell_type": "code",
   "execution_count": 47,
   "metadata": {},
   "outputs": [],
   "source": [
    "df = pd.DataFrame(methEntrez)\n",
    "filepath = 'my_excel_file.xlsx'\n",
    "df.to_excel(filepath, index=False)"
   ]
  },
  {
   "cell_type": "code",
   "execution_count": 7,
   "metadata": {},
   "outputs": [],
   "source": [
    "dataset = Dataset(name='hsapiens_gene_ensembl', host='http://www.ensembl.org')"
   ]
  },
  {
   "cell_type": "code",
   "execution_count": 11,
   "metadata": {},
   "outputs": [
    {
     "data": {
      "text/html": [
       "<div>\n",
       "<style scoped>\n",
       "    .dataframe tbody tr th:only-of-type {\n",
       "        vertical-align: middle;\n",
       "    }\n",
       "\n",
       "    .dataframe tbody tr th {\n",
       "        vertical-align: top;\n",
       "    }\n",
       "\n",
       "    .dataframe thead th {\n",
       "        text-align: right;\n",
       "    }\n",
       "</style>\n",
       "<table border=\"1\" class=\"dataframe\">\n",
       "  <thead>\n",
       "    <tr style=\"text-align: right;\">\n",
       "      <th></th>\n",
       "      <th>name</th>\n",
       "      <th>type</th>\n",
       "      <th>description</th>\n",
       "    </tr>\n",
       "  </thead>\n",
       "  <tbody>\n",
       "    <tr>\n",
       "      <th>0</th>\n",
       "      <td>link_so_mini_closure</td>\n",
       "      <td>list</td>\n",
       "      <td></td>\n",
       "    </tr>\n",
       "    <tr>\n",
       "      <th>1</th>\n",
       "      <td>link_go_closure</td>\n",
       "      <td>text</td>\n",
       "      <td></td>\n",
       "    </tr>\n",
       "    <tr>\n",
       "      <th>2</th>\n",
       "      <td>link_ensembl_transcript_stable_id</td>\n",
       "      <td>text</td>\n",
       "      <td></td>\n",
       "    </tr>\n",
       "    <tr>\n",
       "      <th>3</th>\n",
       "      <td>gene_id</td>\n",
       "      <td>text</td>\n",
       "      <td></td>\n",
       "    </tr>\n",
       "    <tr>\n",
       "      <th>4</th>\n",
       "      <td>transcript_id</td>\n",
       "      <td>text</td>\n",
       "      <td></td>\n",
       "    </tr>\n",
       "    <tr>\n",
       "      <th>5</th>\n",
       "      <td>link_ensembl_gene_id</td>\n",
       "      <td>text</td>\n",
       "      <td></td>\n",
       "    </tr>\n",
       "    <tr>\n",
       "      <th>6</th>\n",
       "      <td>chromosome_name</td>\n",
       "      <td>text</td>\n",
       "      <td></td>\n",
       "    </tr>\n",
       "    <tr>\n",
       "      <th>7</th>\n",
       "      <td>start</td>\n",
       "      <td>text</td>\n",
       "      <td></td>\n",
       "    </tr>\n",
       "    <tr>\n",
       "      <th>8</th>\n",
       "      <td>end</td>\n",
       "      <td>text</td>\n",
       "      <td></td>\n",
       "    </tr>\n",
       "    <tr>\n",
       "      <th>9</th>\n",
       "      <td>band_start</td>\n",
       "      <td>drop_down_basic_filter</td>\n",
       "      <td></td>\n",
       "    </tr>\n",
       "    <tr>\n",
       "      <th>10</th>\n",
       "      <td>band_end</td>\n",
       "      <td>drop_down_basic_filter</td>\n",
       "      <td></td>\n",
       "    </tr>\n",
       "    <tr>\n",
       "      <th>11</th>\n",
       "      <td>marker_start</td>\n",
       "      <td>drop_down_basic_filter</td>\n",
       "      <td></td>\n",
       "    </tr>\n",
       "    <tr>\n",
       "      <th>12</th>\n",
       "      <td>marker_end</td>\n",
       "      <td></td>\n",
       "      <td></td>\n",
       "    </tr>\n",
       "    <tr>\n",
       "      <th>13</th>\n",
       "      <td>hsapiens_encode.type</td>\n",
       "      <td>text</td>\n",
       "      <td></td>\n",
       "    </tr>\n",
       "    <tr>\n",
       "      <th>14</th>\n",
       "      <td>hsapiens_encode.encode_region</td>\n",
       "      <td></td>\n",
       "      <td></td>\n",
       "    </tr>\n",
       "    <tr>\n",
       "      <th>15</th>\n",
       "      <td>strand</td>\n",
       "      <td>text</td>\n",
       "      <td></td>\n",
       "    </tr>\n",
       "    <tr>\n",
       "      <th>16</th>\n",
       "      <td>chromosomal_region</td>\n",
       "      <td>text</td>\n",
       "      <td></td>\n",
       "    </tr>\n",
       "    <tr>\n",
       "      <th>17</th>\n",
       "      <td>id_list_xrefs_filters</td>\n",
       "      <td>boolean_list</td>\n",
       "      <td></td>\n",
       "    </tr>\n",
       "    <tr>\n",
       "      <th>18</th>\n",
       "      <td>id_list_limit_xrefs_filters</td>\n",
       "      <td>id_list</td>\n",
       "      <td></td>\n",
       "    </tr>\n",
       "    <tr>\n",
       "      <th>19</th>\n",
       "      <td>id_list_microarray_filters</td>\n",
       "      <td>boolean_list</td>\n",
       "      <td></td>\n",
       "    </tr>\n",
       "    <tr>\n",
       "      <th>20</th>\n",
       "      <td>id_list_limit_microarray_filters</td>\n",
       "      <td>id_list</td>\n",
       "      <td></td>\n",
       "    </tr>\n",
       "    <tr>\n",
       "      <th>21</th>\n",
       "      <td>transcript_count_greater_than</td>\n",
       "      <td>text</td>\n",
       "      <td></td>\n",
       "    </tr>\n",
       "    <tr>\n",
       "      <th>22</th>\n",
       "      <td>transcript_count_less_than</td>\n",
       "      <td>text</td>\n",
       "      <td></td>\n",
       "    </tr>\n",
       "    <tr>\n",
       "      <th>23</th>\n",
       "      <td>biotype</td>\n",
       "      <td>list</td>\n",
       "      <td></td>\n",
       "    </tr>\n",
       "    <tr>\n",
       "      <th>24</th>\n",
       "      <td>transcript_biotype</td>\n",
       "      <td>list</td>\n",
       "      <td></td>\n",
       "    </tr>\n",
       "    <tr>\n",
       "      <th>25</th>\n",
       "      <td>source</td>\n",
       "      <td>list</td>\n",
       "      <td></td>\n",
       "    </tr>\n",
       "    <tr>\n",
       "      <th>26</th>\n",
       "      <td>transcript_source</td>\n",
       "      <td>list</td>\n",
       "      <td></td>\n",
       "    </tr>\n",
       "    <tr>\n",
       "      <th>27</th>\n",
       "      <td>transcript_tsl</td>\n",
       "      <td>boolean</td>\n",
       "      <td></td>\n",
       "    </tr>\n",
       "    <tr>\n",
       "      <th>28</th>\n",
       "      <td>transcript_gencode_basic</td>\n",
       "      <td>boolean</td>\n",
       "      <td></td>\n",
       "    </tr>\n",
       "    <tr>\n",
       "      <th>29</th>\n",
       "      <td>transcript_appris</td>\n",
       "      <td>boolean</td>\n",
       "      <td></td>\n",
       "    </tr>\n",
       "    <tr>\n",
       "      <th>30</th>\n",
       "      <td>mane_select</td>\n",
       "      <td>boolean</td>\n",
       "      <td></td>\n",
       "    </tr>\n",
       "    <tr>\n",
       "      <th>31</th>\n",
       "      <td>phenotype_description</td>\n",
       "      <td>list</td>\n",
       "      <td></td>\n",
       "    </tr>\n",
       "    <tr>\n",
       "      <th>32</th>\n",
       "      <td>phenotype_source</td>\n",
       "      <td>list</td>\n",
       "      <td></td>\n",
       "    </tr>\n",
       "    <tr>\n",
       "      <th>33</th>\n",
       "      <td>go_clos</td>\n",
       "      <td></td>\n",
       "      <td></td>\n",
       "    </tr>\n",
       "    <tr>\n",
       "      <th>34</th>\n",
       "      <td>go_name</td>\n",
       "      <td></td>\n",
       "      <td></td>\n",
       "    </tr>\n",
       "    <tr>\n",
       "      <th>35</th>\n",
       "      <td>go_evidence_code</td>\n",
       "      <td>list</td>\n",
       "      <td></td>\n",
       "    </tr>\n",
       "    <tr>\n",
       "      <th>36</th>\n",
       "      <td>homolog_filters</td>\n",
       "      <td>boolean_list</td>\n",
       "      <td></td>\n",
       "    </tr>\n",
       "    <tr>\n",
       "      <th>37</th>\n",
       "      <td>id_list_protein_domain_and_feature_filters</td>\n",
       "      <td>boolean_list</td>\n",
       "      <td></td>\n",
       "    </tr>\n",
       "    <tr>\n",
       "      <th>38</th>\n",
       "      <td>id_list_limit_protein_domain_filters</td>\n",
       "      <td>id_list</td>\n",
       "      <td></td>\n",
       "    </tr>\n",
       "    <tr>\n",
       "      <th>39</th>\n",
       "      <td>germ_line_variation_source</td>\n",
       "      <td>list</td>\n",
       "      <td></td>\n",
       "    </tr>\n",
       "    <tr>\n",
       "      <th>40</th>\n",
       "      <td>somatic_variation_source</td>\n",
       "      <td>list</td>\n",
       "      <td></td>\n",
       "    </tr>\n",
       "    <tr>\n",
       "      <th>41</th>\n",
       "      <td>with_validated_snp</td>\n",
       "      <td>boolean</td>\n",
       "      <td></td>\n",
       "    </tr>\n",
       "    <tr>\n",
       "      <th>42</th>\n",
       "      <td>so_consequence_name</td>\n",
       "      <td>list</td>\n",
       "      <td></td>\n",
       "    </tr>\n",
       "  </tbody>\n",
       "</table>\n",
       "</div>"
      ],
      "text/plain": [
       "                                          name                    type  \\\n",
       "0                         link_so_mini_closure                    list   \n",
       "1                              link_go_closure                    text   \n",
       "2            link_ensembl_transcript_stable_id                    text   \n",
       "3                                      gene_id                    text   \n",
       "4                                transcript_id                    text   \n",
       "5                         link_ensembl_gene_id                    text   \n",
       "6                              chromosome_name                    text   \n",
       "7                                        start                    text   \n",
       "8                                          end                    text   \n",
       "9                                   band_start  drop_down_basic_filter   \n",
       "10                                    band_end  drop_down_basic_filter   \n",
       "11                                marker_start  drop_down_basic_filter   \n",
       "12                                  marker_end                           \n",
       "13                        hsapiens_encode.type                    text   \n",
       "14               hsapiens_encode.encode_region                           \n",
       "15                                      strand                    text   \n",
       "16                          chromosomal_region                    text   \n",
       "17                       id_list_xrefs_filters            boolean_list   \n",
       "18                 id_list_limit_xrefs_filters                 id_list   \n",
       "19                  id_list_microarray_filters            boolean_list   \n",
       "20            id_list_limit_microarray_filters                 id_list   \n",
       "21               transcript_count_greater_than                    text   \n",
       "22                  transcript_count_less_than                    text   \n",
       "23                                     biotype                    list   \n",
       "24                          transcript_biotype                    list   \n",
       "25                                      source                    list   \n",
       "26                           transcript_source                    list   \n",
       "27                              transcript_tsl                 boolean   \n",
       "28                    transcript_gencode_basic                 boolean   \n",
       "29                           transcript_appris                 boolean   \n",
       "30                                 mane_select                 boolean   \n",
       "31                       phenotype_description                    list   \n",
       "32                            phenotype_source                    list   \n",
       "33                                     go_clos                           \n",
       "34                                     go_name                           \n",
       "35                            go_evidence_code                    list   \n",
       "36                             homolog_filters            boolean_list   \n",
       "37  id_list_protein_domain_and_feature_filters            boolean_list   \n",
       "38        id_list_limit_protein_domain_filters                 id_list   \n",
       "39                  germ_line_variation_source                    list   \n",
       "40                    somatic_variation_source                    list   \n",
       "41                          with_validated_snp                 boolean   \n",
       "42                         so_consequence_name                    list   \n",
       "\n",
       "   description  \n",
       "0               \n",
       "1               \n",
       "2               \n",
       "3               \n",
       "4               \n",
       "5               \n",
       "6               \n",
       "7               \n",
       "8               \n",
       "9               \n",
       "10              \n",
       "11              \n",
       "12              \n",
       "13              \n",
       "14              \n",
       "15              \n",
       "16              \n",
       "17              \n",
       "18              \n",
       "19              \n",
       "20              \n",
       "21              \n",
       "22              \n",
       "23              \n",
       "24              \n",
       "25              \n",
       "26              \n",
       "27              \n",
       "28              \n",
       "29              \n",
       "30              \n",
       "31              \n",
       "32              \n",
       "33              \n",
       "34              \n",
       "35              \n",
       "36              \n",
       "37              \n",
       "38              \n",
       "39              \n",
       "40              \n",
       "41              \n",
       "42              "
      ]
     },
     "execution_count": 11,
     "metadata": {},
     "output_type": "execute_result"
    }
   ],
   "source": [
    "dataset.list_filters()"
   ]
  },
  {
   "cell_type": "code",
   "execution_count": 21,
   "metadata": {},
   "outputs": [],
   "source": [
    "attributes = dataset.attributes"
   ]
  },
  {
   "cell_type": "code",
   "execution_count": 26,
   "metadata": {},
   "outputs": [
    {
     "name": "stdout",
     "output_type": "stream",
     "text": [
      "152687.0\n"
     ]
    }
   ],
   "source": [
    "print(ch4.values[1,0])"
   ]
  },
  {
   "cell_type": "code",
   "execution_count": 23,
   "metadata": {},
   "outputs": [
    {
     "name": "stdout",
     "output_type": "stream",
     "text": [
      "hgnc_symbol\n",
      "uniprot_gn_symbol\n"
     ]
    }
   ],
   "source": [
    "for attribute in attributes:\n",
    "    if 'symbol' in attribute:\n",
    "        print(attribute)"
   ]
  },
  {
   "cell_type": "code",
   "execution_count": null,
   "metadata": {},
   "outputs": [],
   "source": []
  }
 ],
 "metadata": {
  "kernelspec": {
   "display_name": "Python 3",
   "language": "python",
   "name": "python3"
  },
  "language_info": {
   "codemirror_mode": {
    "name": "ipython",
    "version": 3
   },
   "file_extension": ".py",
   "mimetype": "text/x-python",
   "name": "python",
   "nbconvert_exporter": "python",
   "pygments_lexer": "ipython3",
   "version": "3.7.5rc1"
  }
 },
 "nbformat": 4,
 "nbformat_minor": 4
}
