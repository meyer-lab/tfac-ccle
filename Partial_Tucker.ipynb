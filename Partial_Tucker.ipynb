{
 "cells": [
  {
   "cell_type": "code",
   "execution_count": null,
   "metadata": {},
   "outputs": [],
   "source": [
    "from tfac.Data_Mod import form_tensor, z_score_tensor_bymeasure, z_score_tensor_byprotein\n",
    "from tfac.tensor import partial_tucker_decomp, tucker_decomp, find_R2X_tucker"
   ]
  },
  {
   "cell_type": "code",
   "execution_count": null,
   "metadata": {},
   "outputs": [],
   "source": [
    "tensor, treatments, times = form_tensor()\n",
    "tensor_measure = z_score_tensor_bymeasure(tensor)\n",
    "results_measure = partial_tucker_decomp(tensor_measure, [2], 1)"
   ]
  },
  {
   "cell_type": "code",
   "execution_count": null,
   "metadata": {},
   "outputs": [],
   "source": [
    "tensor, treatments, times = form_tensor()\n",
    "tensor_protein = z_score_tensor_byprotein(tensor)\n",
    "results_protein = partial_tucker_decomp(tensor_protein, [2], 1)"
   ]
  },
  {
   "cell_type": "code",
   "execution_count": null,
   "metadata": {},
   "outputs": [],
   "source": []
  },
  {
   "cell_type": "code",
   "execution_count": null,
   "metadata": {},
   "outputs": [],
   "source": []
  }
 ],
 "metadata": {
  "kernelspec": {
   "display_name": "Python 3",
   "language": "python",
   "name": "python3"
  },
  "language_info": {
   "codemirror_mode": {
    "name": "ipython",
    "version": 3
   },
   "file_extension": ".py",
   "mimetype": "text/x-python",
   "name": "python",
   "nbconvert_exporter": "python",
   "pygments_lexer": "ipython3",
   "version": "3.8.2"
  }
 },
 "nbformat": 4,
 "nbformat_minor": 4
}
