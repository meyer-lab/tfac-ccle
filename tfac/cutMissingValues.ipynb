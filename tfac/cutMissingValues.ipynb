{
 "cells": [
  {
   "cell_type": "code",
   "execution_count": 3,
   "metadata": {},
   "outputs": [],
   "source": [
    "import numpy as np \n",
    "import pandas as pd\n",
    "from dataHelpers import importData\n"
   ]
  },
  {
   "cell_type": "code",
   "execution_count": 81,
   "metadata": {},
   "outputs": [],
   "source": [
    "def cutMissingValues (data, threshold):\n",
    "    \n",
    "    ''' Function takes in data and cuts rows & columns \n",
    "    that have more missing values than the threshold set.\n",
    "    \n",
    "    Inputs: data to be cut, threshold to keep (as a fraction)\n",
    "    \n",
    "    Returns: cut data set '''\n",
    "    \n",
    "    uncutData = data\n",
    "    rows = uncutData.index\n",
    "    cols = uncutData.columns\n",
    "    \n",
    "    uncutData = pd.DataFrame.to_numpy(data)\n",
    "    #uncutData = uncutData1.values\n",
    "    \n",
    "    cutData = uncutData\n",
    "    data_size = uncutData.shape\n",
    "    \n",
    "    limit_rows = (1 - threshold)*data_size[1]\n",
    "    limit_cols = (1 - threshold)*data_size[0]\n",
    "    \n",
    "    cut_row_count = 0\n",
    "    cut_col_count = 0\n",
    "    \n",
    "    \n",
    "    #cut along genes\n",
    "    \n",
    "    for row_name in range(data_size[0]):\n",
    "        count = 0\n",
    "        for col_name in range(data_size[1]):\n",
    "            if np.isnan(uncutData[row_name,col_name]):\n",
    "                count += 1\n",
    "        if count >= limit_rows:\n",
    "            #print(cutData.shape, rows[row_name] )\n",
    "            cutData = np.delete(cutData, cut_row_count, 0)\n",
    "            cut_row_count -= 1\n",
    "        cut_row_count += 1\n",
    "        \n",
    "    #cut along cell lines\n",
    "    data_size = cutData.shape\n",
    "    freshlyChopped = cutData\n",
    "    \n",
    "    for col_name in range(data_size[1]):\n",
    "        count = 0\n",
    "        for row_name in range(data_size[0]):\n",
    "            if np.isnan(cutData[row_name,col_name]):\n",
    "                count += 1\n",
    "        if count >= limit_cols:\n",
    "            freshlyChopped = np.delete(freshlyChopped, cut_col_count, 1)\n",
    "            cut_col_count -= 1\n",
    "        cut_col_count += 1\n",
    "    \n",
    "    return (freshlyChopped)\n",
    "    "
   ]
  }
 ],
 "metadata": {
  "kernelspec": {
   "display_name": "Python 3",
   "language": "python",
   "name": "python3"
  },
  "language_info": {
   "codemirror_mode": {
    "name": "ipython",
    "version": 3
   },
   "file_extension": ".py",
   "mimetype": "text/x-python",
   "name": "python",
   "nbconvert_exporter": "python",
   "pygments_lexer": "ipython3",
   "version": "3.7.5rc1"
  }
 },
 "nbformat": 4,
 "nbformat_minor": 4
}
