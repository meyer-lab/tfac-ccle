{
 "cells": [
  {
   "cell_type": "code",
   "execution_count": 1,
   "metadata": {},
   "outputs": [],
   "source": [
    "\n",
    "def cutMissingValues (data, threshold):\n",
    "    \n",
    "    ''' Function takes in data and cuts rows & columns \n",
    "    that have more missing values than the threshold set.\n",
    "    \n",
    "    Inputs: data to be cut, threshold to keep (as a fraction)\n",
    "    \n",
    "    Returns: cut data set '''\n",
    "    \n",
    "   \n",
    "    uncutData = data\n",
    "    cutData = uncutData\n",
    "    data_size = uncutData.shape\n",
    "    rows = uncutData.index\n",
    "    cols = uncutData.columns\n",
    "    limit_rows = (1 - threshold)*data_size[1]\n",
    "    limit_cols = (1 - threshold)*data_size[0]\n",
    "    \n",
    "    cut_row_count = 0\n",
    "    cut_col_count = 0\n",
    "    \n",
    "#     keep_col_names = []\n",
    "#     keep_row_names = []\n",
    "    \n",
    "    #find column names to keep \n",
    "    \n",
    "    for col_name in range(data_size[1]):\n",
    "        count = 0\n",
    "        for row_name in range(data_size[0]):\n",
    "            if np.isnan(uncutData.iloc[row_name,col_name]):\n",
    "                count += 1\n",
    "        if count >= limit_cols:\n",
    "            np.delete(cutData, cut_col_count, 1)\n",
    "            #cut_col_count -= 1\n",
    "        cut_col_count += 1\n",
    "            \n",
    "    \n",
    "    #find row names to keep \n",
    "    \n",
    "    for row_name in range(data_size[0]):\n",
    "        count = 0\n",
    "        for col_name in range(data_size[1]):\n",
    "            if np.isnan(uncutData.iloc[row_name,col_name]):\n",
    "                count += 1\n",
    "        if count >= limit_rows:\n",
    "            np.delete(cutData, cut_row_count, 0)\n",
    "            #cut_row_count -= 1\n",
    "        cut_row_count += 1\n",
    "    \n",
    "    return (cutData)\n",
    "    \n",
    "    "
   ]
  },
  {
   "cell_type": "code",
   "execution_count": null,
   "metadata": {},
   "outputs": [],
   "source": [
    "meth_data = importData('NilayShah', 'nilayisthebest', 'Methylation All')"
   ]
  }
 ],
 "metadata": {
  "kernelspec": {
   "display_name": "Python 3",
   "language": "python",
   "name": "python3"
  },
  "language_info": {
   "codemirror_mode": {
    "name": "ipython",
    "version": 3
   },
   "file_extension": ".py",
   "mimetype": "text/x-python",
   "name": "python",
   "nbconvert_exporter": "python",
   "pygments_lexer": "ipython3",
   "version": "3.7.5rc1"
  }
 },
 "nbformat": 4,
 "nbformat_minor": 4
}
