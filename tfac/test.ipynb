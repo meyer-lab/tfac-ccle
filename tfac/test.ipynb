{
 "metadata": {
  "language_info": {
   "codemirror_mode": {
    "name": "ipython",
    "version": 3
   },
   "file_extension": ".py",
   "mimetype": "text/x-python",
   "name": "python",
   "nbconvert_exporter": "python",
   "pygments_lexer": "ipython3",
   "version": "3.8.6-final"
  },
  "orig_nbformat": 2,
  "kernelspec": {
   "name": "python3",
   "display_name": "Python 3.8.6 64-bit",
   "metadata": {
    "interpreter": {
     "hash": "aee8b7b246df8f9039afb4144a1f6fd8d2ca17a180786b69acc140d282b71a49"
    }
   }
  }
 },
 "nbformat": 4,
 "nbformat_minor": 2,
 "cells": [
  {
   "cell_type": "code",
   "execution_count": 1,
   "metadata": {},
   "outputs": [],
   "source": [
    "import numpy as np\n",
    "import pandas as pd\n",
    "import matplotlib.pyplot as plt\n",
    "import seaborn as sns\n",
    "from tensor import partial_tucker_decomp, flip_factors, find_R2X_partialtucker, OHSU_parafac2_decomp\n",
    "from tensorly.metrics.regression import variance as tl_var\n",
    "from Data_Mod import form_tensor, form_parafac2_tensor\n",
    "from dataHelpers import importLINCSprotein, proteinNames, dataCleanUp"
   ]
  },
  {
   "cell_type": "code",
   "execution_count": 2,
   "metadata": {},
   "outputs": [],
   "source": [
    "import numpy as np\n",
    "import pandas as pd\n",
    "from tensorly.decomposition import  partial_tucker,parafac2\n",
    "import tensorly as tl\n",
    "from tensorly.parafac2_tensor import parafac2_to_slice, apply_parafac2_projections\n",
    "from Data_Mod import form_tensor\n",
    "from tensor import partial_tucker_decomp, find_R2X_partialtucker, flip_factors\n",
    "tl.set_backend(\"numpy\")\n",
    "\n",
    "def get_Flattened_Matrices(result, geneexpression, treatment_list, times):\n",
    "    ids = geneexpression[\"ensembl_gene_id\"]\n",
    "    geneexpression.drop(\"ensembl_gene_id\", inplace = True, axis = 1)\n",
    "    #create a 5x42 DataFrame of decompsed component values\n",
    "    toflatten = result[0]\n",
    "    flattened = []\n",
    "\n",
    "    for treatment in range(7):\n",
    "        flattened.append(pd.DataFrame(toflatten[treatment]).T)\n",
    "\n",
    "    df = pd.concat(flattened, axis=1)\n",
    "    \n",
    "    #component values for control at T=0\n",
    "    ctrl = df.iloc[:, 0]\n",
    "\n",
    "    #Remove all times that aren't 24 or 48\n",
    "    df.drop([0,1,2,3], inplace = True, axis = 1)\n",
    "    \n",
    "    #add control back in\n",
    "    ctrl = pd.DataFrame(ctrl)\n",
    "    df = pd.concat([ctrl,df], axis = 1)\n",
    "\n",
    "    #rename columns\n",
    "    cols = [str(x) + \"_\" + str(y) for x in treatment_list for y in times[-2:]]\n",
    "    cols = [\"ctrl_0\"] + cols\n",
    "    df.columns = cols\n",
    "\n",
    "    #sort by column name\n",
    "    df = df.reindex(sorted(df.columns), axis=1)\n",
    "    geneexpression = geneexpression.reindex(sorted(geneexpression.columns), axis=1)\n",
    "\n",
    "    #make dataframes into numpy arrays\n",
    "    df = df.to_numpy()\n",
    "    genexpression = geneexpression.to_numpy()\n",
    "    return df, genexpression\n",
    "\n",
    "def get_reconstruct(P,X):\n",
    "    Ppinv = np.linalg.pinv(P.T)\n",
    "    return Ppinv, np.matmul(Ppinv,X.T)\n",
    "\n",
    "def find_gene_factors(result, geneexpression, treatment_list, times):\n",
    "    P, X = get_Flattened_Matrices(result, geneexpression, treatment_list, times)\n",
    "    Ppinv, W = get_reconstruct(P, X)\n",
    "    return P, X, Ppinv, W"
   ]
  },
  {
   "cell_type": "code",
   "execution_count": 48,
   "metadata": {},
   "outputs": [],
   "source": [
    "component = 10\n",
    "tensor, treatment_list, times = form_tensor()\n",
    "pre_flip_result = partial_tucker_decomp(tensor, [2], component)\n",
    "\n",
    "result = flip_factors(pre_flip_result)"
   ]
  },
  {
   "cell_type": "code",
   "execution_count": 49,
   "metadata": {},
   "outputs": [],
   "source": [
    "RNAseq = pd.read_csv(\"data/ohsu/MDD_RNAseq_Level4.csv\")"
   ]
  },
  {
   "cell_type": "code",
   "execution_count": 50,
   "metadata": {},
   "outputs": [],
   "source": [
    "P, X, Ppinv, W = find_gene_factors(result, RNAseq, treatment_list, times)\n"
   ]
  },
  {
   "cell_type": "code",
   "execution_count": 51,
   "metadata": {},
   "outputs": [],
   "source": [
    "Gene_redone = np.matmul(W.T, P)"
   ]
  },
  {
   "cell_type": "code",
   "execution_count": 52,
   "metadata": {},
   "outputs": [
    {
     "output_type": "execute_result",
     "data": {
      "text/plain": [
       "0.9729073338712609"
      ]
     },
     "metadata": {},
     "execution_count": 52
    }
   ],
   "source": [
    "1 - tl_var(Gene_redone - X) / tl_var(RNAseq.to_numpy())"
   ]
  }
 ]
}