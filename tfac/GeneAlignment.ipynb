{
 "cells": [
  {
   "cell_type": "code",
   "execution_count": 1,
   "metadata": {},
   "outputs": [],
   "source": [
    "import numpy as np\n",
    "import pandas as pd\n",
    "from dataOrg import extractData, extractCopy\n",
    "from functools import reduce"
   ]
  },
  {
   "cell_type": "code",
   "execution_count": 2,
   "metadata": {},
   "outputs": [],
   "source": [
    "copies, dupes = extractCopy(dupes = True)"
   ]
  },
  {
   "cell_type": "code",
   "execution_count": 3,
   "metadata": {},
   "outputs": [
    {
     "name": "stdout",
     "output_type": "stream",
     "text": [
      "[['43525' '43526' '5S_rRNA' '7SK' 'ACA59' 'ACA64' 'AKAP17A' 'AL732314.1'\n",
      "  'AMDP1' 'ASMT' 'ASMTL' 'ASMTL-AS1' 'BX649553.1' 'BX649553.2'\n",
      "  'BX649553.3' 'BX649553.4' 'CCDC177' 'CD99' 'CD99P1' 'CKS1B' 'CRLF2'\n",
      "  'CRYBG3' 'CSF2RA' 'CTAGE15' 'DDX11L16' 'DEFB130' 'DHRSX' 'DHRSX-IT1'\n",
      "  'DPH3P2' 'FABP5P13' 'GATS' 'GOLGA6L10' 'GOLGA6L9' 'GOLGA7B' 'GTPBP6'\n",
      "  'IGHV3OR16-13' 'IL3RA' 'IL9R' 'JAG1' 'KRT18P53' 'LIMS3L' 'LINC00102'\n",
      "  'LINC00106' 'LINC00685' 'LL0YNC03-29C1.1' 'LSP1' 'MIR3179-3' 'MIR3690'\n",
      "  'Metazoa_SRP' 'NAA60' 'P2RY8' 'PDXDC2P' 'PLCXD1' 'PPP2R3B' 'RBL1'\n",
      "  'REXO1L10P' 'RN7SL355P' 'RNA5SP498' 'RNU7-63P' 'RP11-309M23.1'\n",
      "  'RP13-297E16.4' 'RP13-297E16.5' 'RPL14P5' 'RPS23P5' 'SCARNA11'\n",
      "  'SCARNA15' 'SCARNA16' 'SCARNA17' 'SCARNA18' 'SCARNA20' 'SCARNA21'\n",
      "  'SCARNA24' 'SCARNA4' 'SCARNA6' 'SHOX' 'SLC25A6' 'SNORA1' 'SNORA11'\n",
      "  'SNORA12' 'SNORA15' 'SNORA16' 'SNORA17' 'SNORA18' 'SNORA19' 'SNORA2'\n",
      "  'SNORA20' 'SNORA21' 'SNORA22' 'SNORA24' 'SNORA25' 'SNORA26' 'SNORA27'\n",
      "  'SNORA3' 'SNORA30' 'SNORA31' 'SNORA32' 'SNORA33' 'SNORA35' 'SNORA36'\n",
      "  'SNORA38' 'SNORA4' 'SNORA40' 'SNORA41' 'SNORA42' 'SNORA43' 'SNORA46'\n",
      "  'SNORA48' 'SNORA50' 'SNORA51' 'SNORA57' 'SNORA58' 'SNORA62' 'SNORA63'\n",
      "  'SNORA64' 'SNORA66' 'SNORA67' 'SNORA68' 'SNORA69' 'SNORA7' 'SNORA70'\n",
      "  'SNORA71' 'SNORA72' 'SNORA73' 'SNORA74' 'SNORA75' 'SNORA76' 'SNORA77'\n",
      "  'SNORA79' 'SNORA8' 'SNORA81' 'SNORA9' 'SNORD11' 'SNORD111' 'SNORD112'\n",
      "  'SNORD113' 'SNORD115' 'SNORD116' 'SNORD18' 'SNORD19' 'SNORD19B'\n",
      "  'SNORD2' 'SNORD23' 'SNORD27' 'SNORD28' 'SNORD33' 'SNORD36' 'SNORD37'\n",
      "  'SNORD38' 'SNORD39' 'SNORD41' 'SNORD42' 'SNORD43' 'SNORD45' 'SNORD46'\n",
      "  'SNORD5' 'SNORD51' 'SNORD56' 'SNORD59' 'SNORD60' 'SNORD61' 'SNORD63'\n",
      "  'SNORD64' 'SNORD65' 'SNORD66' 'SNORD67' 'SNORD70' 'SNORD74' 'SNORD75'\n",
      "  'SNORD77' 'SNORD78' 'SNORD81' 'SNX29P2' 'SPRY3' 'SRSF8' 'TCEB1P24'\n",
      "  'TMEM236' 'TRPC6P' 'U1' 'U3' 'U4' 'U6' 'U7' 'U8' 'VAMP7' 'Vault'\n",
      "  'WASH6P' 'WASIR1' 'Y_RNA' 'ZBED1' 'ZNF33B' 'snR65' 'snoMBII-202'\n",
      "  'snoMe28S-Am2634' 'snoR442' 'snoU109' 'snoU13' 'snoU2_19' 'snoZ6'\n",
      "  'snosnR60_Z15']\n",
      " ['0' '2' '28' '35' '4241' '4244' '4832' '5593' '5726' '6793' '6795'\n",
      "  '6797' '7591' '7593' '7595' '7597' '8682' '8981' '8984' '9580' '10160'\n",
      "  '10195' '10224' '10447' '12789' '12904' '13005' '13007' '13325' '14320'\n",
      "  '15666' '16063' '16073' '16076' '16572' '18078' '18450' '18466' '18754'\n",
      "  '19497' '20076' '20101' '20103' '20446' '20693' '20996' '22068' '22180'\n",
      "  '21561' '23977' '26087' '26534' '27010' '27506' '28529' '28745' '29522'\n",
      "  '30526' '32566' '36462' '44439' '44441' '46186' '46837' '47355' '47362'\n",
      "  '47364' '47369' '47375' '47382' '47389' '47395' '47398' '47401' '47895'\n",
      "  '48200' '48679' '48684' '48694' '48701' '48705' '48708' '48710' '48718'\n",
      "  '48722' '48725' '48730' '48732' '48737' '48739' '48758' '48769' '48778'\n",
      "  '48784' '48787' '48814' '48817' '48822' '48825' '48831' '48834' '48839'\n",
      "  '48860' '48862' '48867' '48874' '48877' '48892' '48894' '48912' '48915'\n",
      "  '48924' '48931' '48944' '48951' '48953' '48960' '48966' '48968' '48973'\n",
      "  '49009' '49015' '49022' '49030' '49039' '49047' '49051' '49055' '49058'\n",
      "  '49065' '49070' '49086' '49088' '49091' '49139' '49184' '49230' '49280'\n",
      "  '49284' '49286' '49289' '49294' '49296' '49298' '49304' '49309' '49313'\n",
      "  '49316' '49321' '49329' '49331' '49335' '49338' '49343' '49347' '49351'\n",
      "  '49356' '49367' '49371' '49374' '49379' '49383' '49385' '49389' '49391'\n",
      "  '49396' '49401' '49408' '49410' '49415' '49420' '50033' '50332' '50447'\n",
      "  '51175' '51791' '52644' '53027' '53035' '53115' '53125' '53140' '53144'\n",
      "  '53692' '53707' '53972' '53975' '54345' '55266' '55681' '49928' '48670'\n",
      "  '48672' '48676' '49448' '49455' '49912' '49923' '49445']]\n",
      "1933.0\n"
     ]
    }
   ],
   "source": [
    "print(copies[1])\n",
    "print(dupes[1])"
   ]
  },
  {
   "cell_type": "code",
   "execution_count": 92,
   "metadata": {},
   "outputs": [
    {
     "data": {
      "text/plain": [
       "array(['A1BG', 'A1BG-AS1', 'A2M-AS1', ..., 'ZYX', 'ZZEF1', 'ZZZ3'],\n",
       "      dtype='<U22')"
      ]
     },
     "execution_count": 92,
     "metadata": {},
     "output_type": "execute_result"
    }
   ],
   "source": [
    "commonGenes = reduce(np.intersect1d, (methylation, geneExp, copyNum))\n",
    "commonGenes"
   ]
  },
  {
   "cell_type": "code",
   "execution_count": 93,
   "metadata": {},
   "outputs": [
    {
     "data": {
      "text/plain": [
       "13740"
      ]
     },
     "execution_count": 93,
     "metadata": {},
     "output_type": "execute_result"
    }
   ],
   "source": [
    "commonGenes.size"
   ]
  },
  {
   "cell_type": "markdown",
   "metadata": {},
   "source": [
    "Number of Repeats in Gene Expression Dataset"
   ]
  },
  {
   "cell_type": "code",
   "execution_count": 125,
   "metadata": {},
   "outputs": [],
   "source": [
    "#slice from [idx:idx+copyNum]\n",
    "#store in dictionary containing "
   ]
  }
 ],
 "metadata": {
  "kernelspec": {
   "display_name": "Python 3",
   "language": "python",
   "name": "python3"
  },
  "language_info": {
   "codemirror_mode": {
    "name": "ipython",
    "version": 3
   },
   "file_extension": ".py",
   "mimetype": "text/x-python",
   "name": "python",
   "nbconvert_exporter": "python",
   "pygments_lexer": "ipython3",
   "version": "3.7.3"
  }
 },
 "nbformat": 4,
 "nbformat_minor": 4
}
