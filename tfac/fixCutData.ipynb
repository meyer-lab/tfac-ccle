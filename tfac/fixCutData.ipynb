{
 "cells": [
  {
   "cell_type": "code",
   "execution_count": 3,
   "metadata": {},
   "outputs": [],
   "source": [
    "import numpy as np \n",
    "import pandas as pd\n",
    "from synapseclient import Synapse\n",
    "import numpy.ma as ma\n",
    "from dataHelpers import exportData"
   ]
  },
  {
   "cell_type": "code",
   "execution_count": 5,
   "metadata": {},
   "outputs": [],
   "source": [
    "def cutMissingValues (data, threshold):\n",
    "    \n",
    "    ''' Function takes in data and cuts rows & columns \n",
    "    that have more missing values than the threshold set.\n",
    "    \n",
    "    Inputs: data to be cut, threshold to keep (as a fraction)\n",
    "    \n",
    "    Returns: cut data set '''\n",
    "    \n",
    "    uncutData = data\n",
    "    rows = uncutData.index\n",
    "    cols = uncutData.columns\n",
    "    data_size = data.shape\n",
    "    \n",
    "    \n",
    "    masked_rows = []\n",
    "    for i in range(len(rows)):\n",
    "        masked_rows.append(0)\n",
    "    masked_cols = []\n",
    "    for i in range(len(cols)):\n",
    "        masked_cols.append(0)\n",
    "\n",
    "    \n",
    "    uncutData = pd.DataFrame.to_numpy(data)\n",
    "    \n",
    "    cutData = uncutData\n",
    "    data_size = uncutData.shape\n",
    "    \n",
    "    limit_rows = (1 - threshold)*data_size[1]\n",
    "    limit_cols = (1 - threshold)*data_size[0]\n",
    "    \n",
    "    cut_row_count = 0\n",
    "    cut_col_count = 0\n",
    "        \n",
    "    \n",
    "    #cut along genes\n",
    "    \n",
    "    for row_name in range(data_size[0]):\n",
    "        count = 0\n",
    "        for col_name in range(data_size[1]):\n",
    "            if np.isnan(uncutData[row_name,col_name]):\n",
    "                count += 1\n",
    "        if count >= limit_rows:\n",
    "            cutData = np.delete(cutData, cut_row_count, 0)\n",
    "            masked_rows[row_name] = 1\n",
    "            cut_row_count -= 1\n",
    "        cut_row_count += 1\n",
    "        \n",
    "    #cut along cell lines\n",
    "    data_size = cutData.shape\n",
    "    freshlyChopped = cutData\n",
    "    \n",
    "    for col_name in range(data_size[1]):\n",
    "        count = 0\n",
    "        for row_name in range(data_size[0]):\n",
    "            if np.isnan(cutData[row_name,col_name]):\n",
    "                count += 1\n",
    "        if count >= limit_cols:\n",
    "            freshlyChopped = np.delete(freshlyChopped, cut_col_count, 1)\n",
    "            masked_cols[col_name] = 1\n",
    "            cut_col_count -= 1\n",
    "        cut_col_count += 1\n",
    "        \n",
    "    rows = ma.masked_array(rows, masked_rows)\n",
    "    rows = rows.compressed()\n",
    "    cols = ma.masked_array(cols, masked_cols)\n",
    "    cols = cols.compressed()\n",
    "\n",
    "    \n",
    "    df_labeled = pd.DataFrame(data=freshlyChopped, columns = cols, index = rows)\n",
    "    print(df_labeled.shape)\n",
    "    \n",
    "    return (df_labeled)"
   ]
  },
  {
   "cell_type": "code",
   "execution_count": 6,
   "metadata": {},
   "outputs": [
    {
     "name": "stdout",
     "output_type": "stream",
     "text": [
      "Welcome, NilayShah!\n",
      "\n"
     ]
    }
   ],
   "source": [
    "syn = Synapse()\n",
    "syn.login('NilayShah', 'nilayisthebest')\n",
    "meth_data = pd.read_csv(syn.get('syn21303732').path, index_col = 0)\n",
    "copy_data = pd.read_csv(syn.get('syn21303730').path, index_col = 0)\n",
    "gene_data = pd.read_csv(syn.get('syn21303731').path, index_col = 0)"
   ]
  },
  {
   "cell_type": "code",
   "execution_count": 7,
   "metadata": {},
   "outputs": [
    {
     "name": "stdout",
     "output_type": "stream",
     "text": [
      "(12937, 807)\n",
      "(11402, 765)\n"
     ]
    }
   ],
   "source": [
    "cutMeth = cutMissingValues(meth_data, 0.9)"
   ]
  },
  {
   "cell_type": "code",
   "execution_count": 8,
   "metadata": {},
   "outputs": [
    {
     "name": "stdout",
     "output_type": "stream",
     "text": [
      "Welcome, NilayShah!\n",
      "\n",
      "\n",
      "##################################################\n",
      " Uploading file to Synapse storage \n",
      "##################################################\n",
      "\n"
     ]
    }
   ],
   "source": [
    "exportData('NilayShah', 'nilayisthebest', cutMeth, 'Cut Methylation Data')"
   ]
  },
  {
   "cell_type": "code",
   "execution_count": 10,
   "metadata": {},
   "outputs": [
    {
     "name": "stdout",
     "output_type": "stream",
     "text": [
      "(12937, 807)\n",
      "(12937, 807)\n"
     ]
    }
   ],
   "source": [
    "cutCopy = cutMissingValues(copy_data, 0.9)"
   ]
  },
  {
   "cell_type": "code",
   "execution_count": 11,
   "metadata": {},
   "outputs": [
    {
     "name": "stdout",
     "output_type": "stream",
     "text": [
      "Welcome, NilayShah!\n",
      "\n",
      "\n",
      "##################################################\n",
      " Uploading file to Synapse storage \n",
      "##################################################\n",
      "\n"
     ]
    }
   ],
   "source": [
    "exportData('NilayShah', 'nilayisthebest', cutCopy, 'Cut Copy Number Data')"
   ]
  },
  {
   "cell_type": "code",
   "execution_count": 12,
   "metadata": {},
   "outputs": [
    {
     "name": "stdout",
     "output_type": "stream",
     "text": [
      "(12937, 807)\n",
      "(12937, 807)\n"
     ]
    }
   ],
   "source": [
    "cutGene = cutMissingValues(gene_data, 0.9)"
   ]
  },
  {
   "cell_type": "code",
   "execution_count": 13,
   "metadata": {},
   "outputs": [
    {
     "name": "stdout",
     "output_type": "stream",
     "text": [
      "Welcome, NilayShah!\n",
      "\n",
      "\n",
      "##################################################\n",
      " Uploading file to Synapse storage \n",
      "##################################################\n",
      "\n"
     ]
    }
   ],
   "source": [
    "exportData('NilayShah', 'nilayisthebest', cutGene, 'Cut Gene Expression Data')"
   ]
  },
  {
   "cell_type": "code",
   "execution_count": null,
   "metadata": {},
   "outputs": [],
   "source": []
  }
 ],
 "metadata": {
  "kernelspec": {
   "display_name": "Python 3",
   "language": "python",
   "name": "python3"
  },
  "language_info": {
   "codemirror_mode": {
    "name": "ipython",
    "version": 3
   },
   "file_extension": ".py",
   "mimetype": "text/x-python",
   "name": "python",
   "nbconvert_exporter": "python",
   "pygments_lexer": "ipython3",
   "version": "3.7.5"
  }
 },
 "nbformat": 4,
 "nbformat_minor": 4
}
