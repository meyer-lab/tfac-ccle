{
 "metadata": {
  "language_info": {
   "codemirror_mode": {
    "name": "ipython",
    "version": 3
   },
   "file_extension": ".py",
   "mimetype": "text/x-python",
   "name": "python",
   "nbconvert_exporter": "python",
   "pygments_lexer": "ipython3",
   "version": "3.8.6-final"
  },
  "orig_nbformat": 2,
  "kernelspec": {
   "name": "python3",
   "display_name": "Python 3",
   "language": "python"
  }
 },
 "nbformat": 4,
 "nbformat_minor": 2,
 "cells": [
  {
   "cell_type": "code",
   "execution_count": 1,
   "metadata": {},
   "outputs": [],
   "source": [
    "from dataHelpers import proteinNames, importLINCSprotein"
   ]
  },
  {
   "cell_type": "code",
   "execution_count": 30,
   "metadata": {},
   "outputs": [],
   "source": [
    "import numpy as np\n",
    "import pandas as pd\n",
    "#from tensorly.decomposition import  partial_tucker\n",
    "from Data_Mod import form_tensor\n",
    "from tensor import partial_tucker_decomp, find_R2X_partialtucker, flip_factors\n",
    "\n",
    "def get_Flattened_Matrices(result, data, treatment_list, times):\n",
    "    #create a 5x42 DataFrame of decompsed component values\n",
    "    toflatten = result[0] #treatment/comp\n",
    "    flattened = []\n",
    "\n",
    "    for treatment in range(7):\n",
    "        flattened.append(pd.DataFrame(toflatten[treatment]).T)\n",
    "\n",
    "    df = pd.concat(flattened, axis=1)\n",
    "    \n",
    "    #component values for control at T=0\n",
    "    ctrl = df.iloc[:, 0]\n",
    "    \n",
    "    #add control back in\n",
    "    ctrl = pd.DataFrame(ctrl)\n",
    "    df = pd.concat([ctrl,df], axis = 1)\n",
    "\n",
    "    #rename columns\n",
    "    cols = [str(x) + \"_\" + str(y) for x in treatment_list for y in times]\n",
    "    cols = [\"ctrl_0\"] + cols\n",
    "    df.columns = cols\n",
    "\n",
    "    #sort by column name\n",
    "    df = df.reindex(sorted(df.columns), axis=1)\n",
    "    data = data.reindex(sorted(data.columns), axis=1)\n",
    "\n",
    "    #make dataframes into numpy arrays\n",
    "    df = df.to_numpy()\n",
    "    data = data.to_numpy()\n",
    "    return df, data\n",
    "\n",
    "def get_reconstruct(P,X):\n",
    "    Ppinv = np.linalg.pinv(P.T)\n",
    "    return Ppinv, np.matmul(Ppinv, X.T)\n",
    "\n",
    "def find_gene_factors(result, data, treatment_list, times):\n",
    "    P, X = get_Flattened_Matrices(result, data, treatment_list, times)\n",
    "    Ppinv, W = get_reconstruct(P, X)\n",
    "    return P, X, Ppinv, W"
   ]
  },
  {
   "cell_type": "code",
   "execution_count": 3,
   "metadata": {},
   "outputs": [],
   "source": [
    "component = 10\n",
    "tensor, treatment_list, times= form_tensor()\n",
    "pre_flip_result = partial_tucker_decomp(tensor, [2], component)\n",
    "\n",
    "result = flip_factors(pre_flip_result)"
   ]
  },
  {
   "cell_type": "code",
   "execution_count": 8,
   "metadata": {},
   "outputs": [],
   "source": [
    "protein = pd.read_csv('data/ohsu/MDD_RPPA_Level4.csv')\n",
    "protein = protein.drop('antibody', axis=1)\n",
    "colName = ['ctrl_0', 'BMP2_0', 'BMP2_1', 'BMP2_4', 'BMP2_8', 'BMP2_24', 'BMP2_48', 'EGF_0', 'EGF_1', 'EGF_4', 'EGF_8', 'EGF_24', 'EGF_48', 'HGF_0', 'HGF_1', 'HGF_4', 'HGF_8', 'HGF_24', 'HGF_48', 'IFNg_0', 'IFNg_1', 'IFNg_4', 'IFNg_8', 'IFNg_24', 'IFNg_48', 'OSM_0', 'OSM_1', 'OSM_4', 'OSM_8', 'OSM_24', 'OSM_48', 'PBS_0', 'PBS_1', 'PBS_4', 'PBS_8', 'PBS_24', 'PBS_48', 'TGFb_0', 'TGFb_1', 'TGFb_4', 'TGFb_8', 'TGFb_24', 'TGFb_48']\n",
    "ctrl = protein['ctrl_0']\n",
    "for x, i in enumerate(treatment_list):\n",
    "    protein.insert(x, i +'_0', ctrl, allow_duplicates=True)\n",
    "for y in times:\n",
    "    protein.rename(columns={'TGFB_1':'TGFb_1', 'TGFB_4':'TGFb_4', 'TGFB_8': 'TGFb_8', 'TGFB_24':'TGFb_24', 'TGFB_48':'TGFb_48'}, inplace=True)\n",
    "protein = protein.reindex(colName, axis=1)"
   ]
  },
  {
   "cell_type": "code",
   "execution_count": 9,
   "metadata": {},
   "outputs": [],
   "source": [
    "P, X, Ppinv, W = find_gene_factors(result, protein, treatment_list, times)"
   ]
  },
  {
   "cell_type": "code",
   "execution_count": 33,
   "metadata": {},
   "outputs": [
    {
     "output_type": "error",
     "ename": "AttributeError",
     "evalue": "'numpy.ndarray' object has no attribute 'isnull'",
     "traceback": [
      "\u001b[0;31m---------------------------------------------------------------------------\u001b[0m",
      "\u001b[0;31mAttributeError\u001b[0m                            Traceback (most recent call last)",
      "\u001b[0;32m<ipython-input-33-cb03ebe0bd7c>\u001b[0m in \u001b[0;36m<module>\u001b[0;34m\u001b[0m\n\u001b[1;32m      1\u001b[0m \u001b[0mP\u001b[0m\u001b[0;34m,\u001b[0m \u001b[0mX\u001b[0m \u001b[0;34m=\u001b[0m \u001b[0mget_Flattened_Matrices\u001b[0m\u001b[0;34m(\u001b[0m\u001b[0mresult\u001b[0m\u001b[0;34m,\u001b[0m \u001b[0mprotein\u001b[0m\u001b[0;34m,\u001b[0m \u001b[0mtreatment_list\u001b[0m\u001b[0;34m,\u001b[0m \u001b[0mtimes\u001b[0m\u001b[0;34m)\u001b[0m\u001b[0;34m\u001b[0m\u001b[0;34m\u001b[0m\u001b[0m\n\u001b[0;32m----> 2\u001b[0;31m \u001b[0mprint\u001b[0m\u001b[0;34m(\u001b[0m\u001b[0mPpinv\u001b[0m\u001b[0;34m.\u001b[0m\u001b[0misnull\u001b[0m\u001b[0;34m(\u001b[0m\u001b[0;34m)\u001b[0m\u001b[0;34m.\u001b[0m\u001b[0msum\u001b[0m\u001b[0;34m(\u001b[0m\u001b[0;34m)\u001b[0m\u001b[0;34m.\u001b[0m\u001b[0msum\u001b[0m\u001b[0;34m(\u001b[0m\u001b[0;34m)\u001b[0m\u001b[0;34m)\u001b[0m\u001b[0;34m\u001b[0m\u001b[0;34m\u001b[0m\u001b[0m\n\u001b[0m",
      "\u001b[0;31mAttributeError\u001b[0m: 'numpy.ndarray' object has no attribute 'isnull'"
     ]
    }
   ],
   "source": [
    "P, X = get_Flattened_Matrices(result, protein, treatment_list, times)"
   ]
  },
  {
   "cell_type": "code",
   "execution_count": 110,
   "metadata": {},
   "outputs": [
    {
     "output_type": "stream",
     "name": "stdout",
     "text": [
      "[[nan nan nan ... nan nan nan]\n [nan nan nan ... nan nan nan]\n [nan nan nan ... nan nan nan]\n ...\n [nan nan nan ... nan nan nan]\n [nan nan nan ... nan nan nan]\n [nan nan nan ... nan nan nan]]\n"
     ]
    }
   ],
   "source": [
    "print(np.matmul(Ppinv, X.T))\n",
    "#protein_redone = np.matmul(W.T, P)"
   ]
  },
  {
   "cell_type": "code",
   "execution_count": 106,
   "metadata": {},
   "outputs": [
    {
     "output_type": "execute_result",
     "data": {
      "text/plain": [
       "nan"
      ]
     },
     "metadata": {},
     "execution_count": 106
    }
   ],
   "source": [
    "from tensorly.metrics.regression import variance as tl_var\n",
    "1 - tl_var(protein_redone - X) / tl_var(protein.to_numpy())"
   ]
  },
  {
   "cell_type": "code",
   "execution_count": null,
   "metadata": {},
   "outputs": [],
   "source": []
  }
 ]
}