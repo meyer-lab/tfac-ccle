{
 "cells": [
  {
   "cell_type": "code",
   "execution_count": 4,
   "metadata": {},
   "outputs": [],
   "source": [
    "import numpy as np\n",
    "import pandas as pd\n",
    "from sklearn import svm\n",
    "from sklearn.model_selection import train_test_split\n",
    "from drugOrg import importDrugs\n",
    "from functools import reduce\n",
    "# from drugOrg import tempFilter\n",
    "# from dataHelpers import getCellLineComps"
   ]
  },
  {
   "cell_type": "code",
   "execution_count": 5,
   "metadata": {},
   "outputs": [],
   "source": [
    "def getCellLineComps():\n",
    "    '''Import cell line components --- rank 25 cp'''\n",
    "    filename = os.path.join(path, './data/HDF5/cell_comps_25.hdf5')\n",
    "    with h5py.File(filename, 'r') as f:\n",
    "        data = f[\"comps\"][:]\n",
    "        f.close()\n",
    "    return data.T\n",
    "\n",
    "def tempFilter(drugData):\n",
    "    '''temporarily uses known cell lines and factors for initial regression testing\n",
    "    Inputs: one compound (e.g. drugArr[0]) from the drugArr (a 2d numpy array)\n",
    "    \n",
    "    Outputs:\n",
    "    two 2d numpy arrays containing the drugArr and factors with common cell lines\n",
    "    '''\n",
    "    factCells = pd.read_csv('data/cellLines(aligned,precut).csv', header=None, index_col=False).values\n",
    "    factors = getCellLineComps()\n",
    "    factFiltered, drugFiltered = filterCells(factCells, factors, drugData)\n",
    "    return factFiltered, drugFiltered\n",
    "\n",
    "def filterCells(factCells, factors, drugData):\n",
    "    '''aligns factors and drug data by common cell lines'''\n",
    "    commonCL = reduce(np.intersect1d, (factCells, drugData[:,0]))\n",
    "    factIdx = np.where(np.in1d(factCells, commonCL))[0]\n",
    "    drugIdx = np.where(np.in1d(drugData[:,0], commonCL))[0]\n",
    "    factFiltered = factors[factIdx, :]\n",
    "    drugFiltered = drugData[drugIdx, :]\n",
    "    return factFiltered, drugFiltered"
   ]
  },
  {
   "cell_type": "code",
   "execution_count": 67,
   "metadata": {},
   "outputs": [],
   "source": [
    "# def intDrugsAndCells(drugs, cells):\n",
    "#     '''\n",
    "#     Finds the cells lines in the drug dataset \n",
    "\n",
    "#     Returns:\n",
    "#             Numpy array of unique common cell lines\n",
    "#     '''\n",
    "#     drugsAndCells = reduce(np.intersect1d, (drugs, cells))\n",
    "#     return drugsAndCells"
   ]
  },
  {
   "cell_type": "code",
   "execution_count": 27,
   "metadata": {},
   "outputs": [],
   "source": [
    "cell_comps = getCellLineComps()\n",
    "# drugs = importDrugs()"
   ]
  },
  {
   "cell_type": "code",
   "execution_count": null,
   "metadata": {},
   "outputs": [],
   "source": [
    "# drugs[0].shape\n",
    "# first_drugs = drugs[0]\n",
    "# drugs_cell_lines = first_drugs[:, 0]\n",
    "# cell_lines = cell_comps[:, 0]\n",
    "# print(cell_comps)\n",
    "# intDrugsAndCells(first_drugs, cell_lines)"
   ]
  },
  {
   "cell_type": "code",
   "execution_count": 77,
   "metadata": {},
   "outputs": [
    {
     "name": "stdout",
     "output_type": "stream",
     "text": [
      "(410, 25)\n",
      "[-0.00563914 -0.01336823 -0.00087393 -0.00292835  0.03347058  0.02140546\n",
      "  0.00455992 -0.02708515  0.0299087  -0.01411919  0.03808385  0.02727541\n",
      "  0.03224995  0.02750328  0.03357634  0.00079153 -0.00884383 -0.00940239\n",
      "  0.01988173 -0.00968551  0.01846536  0.02487351  0.00270583 -0.01838954\n",
      "  0.01904194]\n",
      "(410, 13)\n",
      "3.0622\n"
     ]
    }
   ],
   "source": [
    "full_drugs = importDrugs()\n",
    "factors, drugs = tempFilter(full_drugs[0])\n",
    "print(factors.shape)\n",
    "print(factors[0])\n",
    "print(drugs.shape)\n",
    "print(drugs[0,-1])"
   ]
  },
  {
   "cell_type": "code",
   "execution_count": 79,
   "metadata": {},
   "outputs": [],
   "source": [
    "X_train, X_test, y_train, y_test = train_test_split(factors, drugs[:,-1], test_size=0.1, random_state=42)"
   ]
  },
  {
   "cell_type": "code",
   "execution_count": 80,
   "metadata": {},
   "outputs": [],
   "source": [
    "clf = svm.SVR()"
   ]
  },
  {
   "cell_type": "code",
   "execution_count": 82,
   "metadata": {},
   "outputs": [
    {
     "data": {
      "text/plain": [
       "SVR(C=1.0, cache_size=200, coef0=0.0, degree=3, epsilon=0.1, gamma='scale',\n",
       "    kernel='rbf', max_iter=-1, shrinking=True, tol=0.001, verbose=False)"
      ]
     },
     "execution_count": 82,
     "metadata": {},
     "output_type": "execute_result"
    }
   ],
   "source": [
    "clf.fit(X_train, y_train)"
   ]
  },
  {
   "cell_type": "code",
   "execution_count": 83,
   "metadata": {},
   "outputs": [
    {
     "data": {
      "text/plain": [
       "array([3.30550731, 3.98669431, 3.55343772, 3.37893917, 3.78584425,\n",
       "       3.57192733, 3.70687459, 2.96836683, 3.58735447, 3.91745767,\n",
       "       3.88673156, 3.83154676, 4.40216406, 3.15067086, 3.17040931,\n",
       "       3.68634796, 3.53353502, 3.35926744, 3.447714  , 3.68358832,\n",
       "       3.42867234, 3.53287711, 3.30547294, 3.75270292, 3.10383853,\n",
       "       3.54143917, 3.90799517, 3.58466044, 3.15844545, 3.10494808,\n",
       "       3.26837281, 3.3020111 , 3.396255  , 3.84517456, 3.32692888,\n",
       "       3.13906278, 2.9971561 , 3.63588909, 3.37035771, 3.12678874,\n",
       "       3.79679192])"
      ]
     },
     "execution_count": 83,
     "metadata": {},
     "output_type": "execute_result"
    }
   ],
   "source": [
    "clf.predict(X_test)"
   ]
  },
  {
   "cell_type": "code",
   "execution_count": null,
   "metadata": {},
   "outputs": [],
   "source": []
  }
 ],
 "metadata": {
  "kernelspec": {
   "display_name": "Python 3",
   "language": "python",
   "name": "python3"
  },
  "language_info": {
   "codemirror_mode": {
    "name": "ipython",
    "version": 3
   },
   "file_extension": ".py",
   "mimetype": "text/x-python",
   "name": "python",
   "nbconvert_exporter": "python",
   "pygments_lexer": "ipython3",
   "version": "3.7.5"
  }
 },
 "nbformat": 4,
 "nbformat_minor": 4
}
