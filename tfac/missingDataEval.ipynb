{
 "cells": [
  {
   "cell_type": "code",
   "execution_count": 2,
   "metadata": {},
   "outputs": [],
   "source": [
    "import numpy as np \n",
    "import pandas as pd\n",
    "from dataHelpers import importData"
   ]
  },
  {
   "cell_type": "code",
   "execution_count": 6,
   "metadata": {},
   "outputs": [
    {
     "name": "stdout",
     "output_type": "stream",
     "text": [
      "Welcome, NilayShah!\n",
      "\n"
     ]
    }
   ],
   "source": [
    "meth_data = importData('NilayShah', 'nilayisthebest', 'Methylation All')"
   ]
  },
  {
   "cell_type": "code",
   "execution_count": 7,
   "metadata": {},
   "outputs": [
    {
     "name": "stdout",
     "output_type": "stream",
     "text": [
      "984182\n"
     ]
    }
   ],
   "source": [
    "size = meth_data.shape\n",
    "count = 0\n",
    "for x in range(size[0]):\n",
    "    for y in range(size[1]):\n",
    "        if np.isnan(meth_data.iloc[x,y]):\n",
    "            count += 1\n",
    "print(count)"
   ]
  },
  {
   "cell_type": "code",
   "execution_count": 8,
   "metadata": {},
   "outputs": [
    {
     "name": "stdout",
     "output_type": "stream",
     "text": [
      "19211\n"
     ]
    }
   ],
   "source": [
    "complete_gene = []\n",
    "rows = meth_data.index\n",
    "limit = .1*size[1]\n",
    "test = (100, 100)\n",
    "\n",
    "for gene in range(size[0]):\n",
    "    count = 0\n",
    "    for cell_line in range(size[1]):\n",
    "        if np.isnan(meth_data.iloc[gene,cell_line]):\n",
    "            count += 1\n",
    "    if count <= limit:\n",
    "        complete_gene.append(rows[gene])\n",
    "     \n",
    "print(len(complete_gene))"
   ]
  },
  {
   "cell_type": "code",
   "execution_count": 9,
   "metadata": {},
   "outputs": [
    {
     "name": "stdout",
     "output_type": "stream",
     "text": [
      "788\n"
     ]
    }
   ],
   "source": [
    "complete_cell = []\n",
    "cols = meth_data.columns\n",
    "limit = .1*size[0]\n",
    "test = (1000, 800)\n",
    "\n",
    "for cell_line in range(size[1]):\n",
    "    count = 0\n",
    "    for gene in range(size[0]):\n",
    "        if np.isnan(meth_data.iloc[gene,cell_line]):\n",
    "            count += 1\n",
    "    if count <= limit:\n",
    "        complete_cell.append(cols[cell_line])\n",
    "     \n",
    "print(len(complete_cell))"
   ]
  },
  {
   "cell_type": "code",
   "execution_count": 10,
   "metadata": {},
   "outputs": [
    {
     "data": {
      "text/plain": [
       "0.9347568208778173"
      ]
     },
     "execution_count": 10,
     "metadata": {},
     "output_type": "execute_result"
    }
   ],
   "source": [
    "len(complete_cell)/size[1]"
   ]
  },
  {
   "cell_type": "code",
   "execution_count": 11,
   "metadata": {},
   "outputs": [
    {
     "data": {
      "text/plain": [
       "0.9003186802886869"
      ]
     },
     "execution_count": 11,
     "metadata": {},
     "output_type": "execute_result"
    }
   ],
   "source": [
    "len(complete_gene)/size[0]"
   ]
  },
  {
   "cell_type": "code",
   "execution_count": null,
   "metadata": {},
   "outputs": [],
   "source": []
  }
 ],
 "metadata": {
  "kernelspec": {
   "display_name": "Python 3",
   "language": "python",
   "name": "python3"
  },
  "language_info": {
   "codemirror_mode": {
    "name": "ipython",
    "version": 3
   },
   "file_extension": ".py",
   "mimetype": "text/x-python",
   "name": "python",
   "nbconvert_exporter": "python",
   "pygments_lexer": "ipython3",
   "version": "3.7.5rc1"
  }
 },
 "nbformat": 4,
 "nbformat_minor": 4
}
