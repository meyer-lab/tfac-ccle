{
 "cells": [
  {
   "cell_type": "code",
   "execution_count": 15,
   "metadata": {},
   "outputs": [],
   "source": [
    "import numpy as np \n",
    "import pandas as pd\n",
    "from dataHelpers import importData"
   ]
  },
  {
   "cell_type": "code",
   "execution_count": 7,
   "metadata": {},
   "outputs": [
    {
     "name": "stdout",
     "output_type": "stream",
     "text": [
      "Welcome, NilayShah!\n",
      "\n",
      "Welcome, NilayShah!\n",
      "\n"
     ]
    }
   ],
   "source": [
    "meth_data = importData('NilayShah', 'nilayisthebest', 'Methylation All')\n",
    "copy_data = importData('NilayShah', 'nilayisthebest', 'Copy Number All')"
   ]
  },
  {
   "cell_type": "code",
   "execution_count": 16,
   "metadata": {},
   "outputs": [
    {
     "name": "stdout",
     "output_type": "stream",
     "text": [
      "(21338, 843)\n",
      "(23316, 1043)\n"
     ]
    }
   ],
   "source": [
    "meth_size = meth_data.shape\n",
    "copy_size = copy_data.shape\n",
    "\n",
    "print(meth_size)\n",
    "print(copy_size)"
   ]
  },
  {
   "cell_type": "code",
   "execution_count": 21,
   "metadata": {},
   "outputs": [
    {
     "name": "stdout",
     "output_type": "stream",
     "text": [
      "984182\n"
     ]
    }
   ],
   "source": [
    "meth_count = 0\n",
    "for x in range(meth_size[0]):\n",
    "    for y in range(meth_size[1]):\n",
    "        if np.isnan(meth_data.iloc[x,y]):\n",
    "            meth_count += 1\n",
    "print(meth_count)"
   ]
  },
  {
   "cell_type": "code",
   "execution_count": 25,
   "metadata": {},
   "outputs": [
    {
     "name": "stdout",
     "output_type": "stream",
     "text": [
      "0\n"
     ]
    }
   ],
   "source": [
    "copy_count = 0\n",
    "for x in range(copy_size[0]):\n",
    "    for y in range(copy_size[1]):\n",
    "        if np.isnan(copy_data.iloc[x,y]):\n",
    "            copy_count += 1\n",
    "print(copy_count)"
   ]
  },
  {
   "cell_type": "code",
   "execution_count": 23,
   "metadata": {},
   "outputs": [
    {
     "name": "stdout",
     "output_type": "stream",
     "text": [
      "11622\n",
      "22\n"
     ]
    }
   ],
   "source": [
    "print(x)\n",
    "print(y)"
   ]
  },
  {
   "cell_type": "code",
   "execution_count": 26,
   "metadata": {},
   "outputs": [
    {
     "name": "stdout",
     "output_type": "stream",
     "text": [
      "19096\n"
     ]
    }
   ],
   "source": [
    "complete_meth_gene = []\n",
    "meth_rows = meth_data.index\n",
    "meth_limit = .1*meth_size[1]\n",
    "\n",
    "for gene in range(meth_size[0]):\n",
    "    count = 0\n",
    "    for cell_line in range(meth_size[1]):\n",
    "        if np.isnan(meth_data.iloc[gene,cell_line]):\n",
    "            count += 1\n",
    "    if count <= meth_limit:\n",
    "        complete_meth_gene.append(meth_rows[gene])\n",
    "     \n",
    "print(len(complete_meth_gene))"
   ]
  },
  {
   "cell_type": "code",
   "execution_count": 28,
   "metadata": {},
   "outputs": [
    {
     "name": "stdout",
     "output_type": "stream",
     "text": [
      "23316\n"
     ]
    }
   ],
   "source": [
    "complete_copy_gene = []\n",
    "copy_rows = copy_data.index\n",
    "copy_limit = .1*copy_size[1]\n",
    "\n",
    "for gene in range(copy_size[0]):\n",
    "    count = 0\n",
    "    for cell_line in range(copy_size[1]):\n",
    "        if np.isnan(copy_data.iloc[gene,cell_line]):\n",
    "            count += 1\n",
    "    if count <= copy_limit:\n",
    "        complete_copy_gene.append(copy_rows[gene])\n",
    "        \n",
    "print(len(complete_copy_gene))"
   ]
  },
  {
   "cell_type": "code",
   "execution_count": 30,
   "metadata": {},
   "outputs": [
    {
     "name": "stdout",
     "output_type": "stream",
     "text": [
      "788\n"
     ]
    }
   ],
   "source": [
    "complete_meth_cell = []\n",
    "meth_cols = meth_data.columns\n",
    "meth_limit = .1*meth_size[0]\n",
    "\n",
    "for cell_line in range(meth_size[1]):\n",
    "    count = 0\n",
    "    for gene in range(meth_size[0]):\n",
    "        if np.isnan(meth_data.iloc[gene,cell_line]):\n",
    "            count += 1\n",
    "    if count <= meth_limit:\n",
    "        complete_meth_cell.append(meth_cols[cell_line])\n",
    "     \n",
    "print(len(complete_meth_cell))"
   ]
  },
  {
   "cell_type": "code",
   "execution_count": 31,
   "metadata": {},
   "outputs": [
    {
     "name": "stdout",
     "output_type": "stream",
     "text": [
      "1043\n"
     ]
    }
   ],
   "source": [
    "complete_copy_cell = []\n",
    "copy_cols = copy_data.columns\n",
    "copy_limit = .1*copy_size[0]\n",
    "\n",
    "for cell_line in range(copy_size[1]):\n",
    "    count = 0\n",
    "    for gene in range(copy_size[0]):\n",
    "        if np.isnan(copy_data.iloc[gene,cell_line]):\n",
    "            count += 1\n",
    "    if count <= copy_limit:\n",
    "        complete_copy_cell.append(copy_cols[cell_line])\n",
    "     \n",
    "print(len(complete_copy_cell))"
   ]
  },
  {
   "cell_type": "code",
   "execution_count": 32,
   "metadata": {},
   "outputs": [
    {
     "name": "stdout",
     "output_type": "stream",
     "text": [
      "0.9347568208778173\n",
      "0.9347568208778173\n"
     ]
    }
   ],
   "source": [
    "keep_meth_cell = len(complete_meth_cell)/meth_size[1]\n",
    "keep_copy_cell = len(complete_copy_cell)/copy_size[1]\n",
    "\n",
    "print(keep_meth_cell)\n",
    "print(keep_meth_cell)"
   ]
  },
  {
   "cell_type": "code",
   "execution_count": 33,
   "metadata": {},
   "outputs": [
    {
     "name": "stdout",
     "output_type": "stream",
     "text": [
      "0.8949292342300121\n",
      "1.0\n"
     ]
    }
   ],
   "source": [
    "keep_meth_gene = len(complete_meth_gene)/meth_size[0]\n",
    "keep_copy_gene = len(complete_copy_gene)/copy_size[0]\n",
    "\n",
    "print(keep_meth_gene)\n",
    "print(keep_copy_gene)"
   ]
  },
  {
   "cell_type": "code",
   "execution_count": 23,
   "metadata": {},
   "outputs": [
    {
     "name": "stdout",
     "output_type": "stream",
     "text": [
      "843\n"
     ]
    }
   ],
   "source": [
    "print(len(newMeth))"
   ]
  },
  {
   "cell_type": "code",
   "execution_count": null,
   "metadata": {},
   "outputs": [],
   "source": []
  }
 ],
 "metadata": {
  "kernelspec": {
   "display_name": "Python 3",
   "language": "python",
   "name": "python3"
  },
  "language_info": {
   "codemirror_mode": {
    "name": "ipython",
    "version": 3
   },
   "file_extension": ".py",
   "mimetype": "text/x-python",
   "name": "python",
   "nbconvert_exporter": "python",
   "pygments_lexer": "ipython3",
   "version": "3.7.5rc1"
  }
 },
 "nbformat": 4,
 "nbformat_minor": 4
}
